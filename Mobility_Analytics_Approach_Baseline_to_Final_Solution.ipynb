{
  "nbformat": 4,
  "nbformat_minor": 0,
  "metadata": {
    "colab": {
      "name": "Mobility Analytics  Approach- Baseline to Final Solution.ipynb",
      "provenance": []
    },
    "kernelspec": {
      "name": "python3",
      "display_name": "Python 3"
    }
  },
  "cells": [
    {
      "cell_type": "markdown",
      "metadata": {
        "id": "DTRh_Qrxonrf",
        "colab_type": "text"
      },
      "source": [
        "**Instaliing the necessary packages**"
      ]
    },
    {
      "cell_type": "code",
      "metadata": {
        "id": "sml5FOCjXb-9",
        "colab_type": "code",
        "outputId": "567d1a3c-f077-4e12-d2f5-24c8947bc359",
        "colab": {
          "base_uri": "https://localhost:8080/",
          "height": 524
        }
      },
      "source": [
        "!pip install pandas==0.24.0\n",
        "!pip install catboost\n",
        "!pip install lightgbm\n",
        "!pip install sklearn"
      ],
      "execution_count": 1,
      "outputs": [
        {
          "output_type": "stream",
          "text": [
            "Requirement already satisfied: pandas==0.24.0 in /usr/local/lib/python3.6/dist-packages (0.24.0)\n",
            "Requirement already satisfied: pytz>=2011k in /usr/local/lib/python3.6/dist-packages (from pandas==0.24.0) (2018.9)\n",
            "Requirement already satisfied: numpy>=1.12.0 in /usr/local/lib/python3.6/dist-packages (from pandas==0.24.0) (1.18.4)\n",
            "Requirement already satisfied: python-dateutil>=2.5.0 in /usr/local/lib/python3.6/dist-packages (from pandas==0.24.0) (2.8.1)\n",
            "Requirement already satisfied: six>=1.5 in /usr/local/lib/python3.6/dist-packages (from python-dateutil>=2.5.0->pandas==0.24.0) (1.12.0)\n",
            "Requirement already satisfied: catboost in /usr/local/lib/python3.6/dist-packages (0.23.1)\n",
            "Requirement already satisfied: graphviz in /usr/local/lib/python3.6/dist-packages (from catboost) (0.10.1)\n",
            "Requirement already satisfied: scipy in /usr/local/lib/python3.6/dist-packages (from catboost) (1.4.1)\n",
            "Requirement already satisfied: matplotlib in /usr/local/lib/python3.6/dist-packages (from catboost) (3.2.1)\n",
            "Requirement already satisfied: pandas>=0.24.0 in /usr/local/lib/python3.6/dist-packages (from catboost) (0.24.0)\n",
            "Requirement already satisfied: numpy>=1.16.0 in /usr/local/lib/python3.6/dist-packages (from catboost) (1.18.4)\n",
            "Requirement already satisfied: six in /usr/local/lib/python3.6/dist-packages (from catboost) (1.12.0)\n",
            "Requirement already satisfied: plotly in /usr/local/lib/python3.6/dist-packages (from catboost) (4.4.1)\n",
            "Requirement already satisfied: kiwisolver>=1.0.1 in /usr/local/lib/python3.6/dist-packages (from matplotlib->catboost) (1.2.0)\n",
            "Requirement already satisfied: pyparsing!=2.0.4,!=2.1.2,!=2.1.6,>=2.0.1 in /usr/local/lib/python3.6/dist-packages (from matplotlib->catboost) (2.4.7)\n",
            "Requirement already satisfied: cycler>=0.10 in /usr/local/lib/python3.6/dist-packages (from matplotlib->catboost) (0.10.0)\n",
            "Requirement already satisfied: python-dateutil>=2.1 in /usr/local/lib/python3.6/dist-packages (from matplotlib->catboost) (2.8.1)\n",
            "Requirement already satisfied: pytz>=2011k in /usr/local/lib/python3.6/dist-packages (from pandas>=0.24.0->catboost) (2018.9)\n",
            "Requirement already satisfied: retrying>=1.3.3 in /usr/local/lib/python3.6/dist-packages (from plotly->catboost) (1.3.3)\n",
            "Requirement already satisfied: lightgbm in /usr/local/lib/python3.6/dist-packages (2.2.3)\n",
            "Requirement already satisfied: scikit-learn in /usr/local/lib/python3.6/dist-packages (from lightgbm) (0.22.2.post1)\n",
            "Requirement already satisfied: scipy in /usr/local/lib/python3.6/dist-packages (from lightgbm) (1.4.1)\n",
            "Requirement already satisfied: numpy in /usr/local/lib/python3.6/dist-packages (from lightgbm) (1.18.4)\n",
            "Requirement already satisfied: joblib>=0.11 in /usr/local/lib/python3.6/dist-packages (from scikit-learn->lightgbm) (0.14.1)\n",
            "Requirement already satisfied: sklearn in /usr/local/lib/python3.6/dist-packages (0.0)\n",
            "Requirement already satisfied: scikit-learn in /usr/local/lib/python3.6/dist-packages (from sklearn) (0.22.2.post1)\n",
            "Requirement already satisfied: joblib>=0.11 in /usr/local/lib/python3.6/dist-packages (from scikit-learn->sklearn) (0.14.1)\n",
            "Requirement already satisfied: numpy>=1.11.0 in /usr/local/lib/python3.6/dist-packages (from scikit-learn->sklearn) (1.18.4)\n",
            "Requirement already satisfied: scipy>=0.17.0 in /usr/local/lib/python3.6/dist-packages (from scikit-learn->sklearn) (1.4.1)\n"
          ],
          "name": "stdout"
        }
      ]
    },
    {
      "cell_type": "code",
      "metadata": {
        "id": "kjc08gnUX0O4",
        "colab_type": "code",
        "colab": {}
      },
      "source": [
        "import numpy as np # linear algebra\n",
        "import pandas as pd # data processing, CSV file I/O (e.g. pd.read_csv)"
      ],
      "execution_count": 0,
      "outputs": []
    },
    {
      "cell_type": "markdown",
      "metadata": {
        "id": "J4EjSkydowa8",
        "colab_type": "text"
      },
      "source": [
        "# Exploring the data"
      ]
    },
    {
      "cell_type": "markdown",
      "metadata": {
        "id": "MCLb3sdRsbYU",
        "colab_type": "text"
      },
      "source": [
        "Features and explanation"
      ]
    },
    {
      "cell_type": "markdown",
      "metadata": {
        "id": "m2v4fzYfsPoP",
        "colab_type": "text"
      },
      "source": [
        "<tbody>\n",
        "        <tr>\n",
        "            <td width=\"164\">\n",
        "                <p><strong>Variable</strong></p>\n",
        "            </td>\n",
        "            <td width=\"647\">\n",
        "                <p><strong>Definition</strong></p>\n",
        "            </td>\n",
        "        </tr>\n",
        "        <tr>\n",
        "            <td width=\"164\">\n",
        "                <p>Trip_ID</p>\n",
        "            </td>\n",
        "            <td width=\"647\">\n",
        "                <p>ID for TRIP (Can not be used for purposes of modelling)</p>\n",
        "            </td>\n",
        "        </tr>\n",
        "        <tr>\n",
        "            <td width=\"164\">\n",
        "                <p>Trip_Distance</p>\n",
        "            </td>\n",
        "            <td width=\"647\">\n",
        "                <p>The distance for the trip requested by the customer</p>\n",
        "            </td>\n",
        "        </tr>\n",
        "        <tr>\n",
        "            <td width=\"164\">\n",
        "                <p>Type_of_Cab</p>\n",
        "            </td>\n",
        "            <td width=\"647\">\n",
        "                <p>Category of the cab requested by the customer</p>\n",
        "            </td>\n",
        "        </tr>\n",
        "        <tr>\n",
        "            <td width=\"164\">\n",
        "                <p>Customer_Since_Months</p>\n",
        "            </td>\n",
        "            <td width=\"647\">\n",
        "                <p>Customer using cab services since n months; 0 month means current month</p>\n",
        "            </td>\n",
        "        </tr>\n",
        "        <tr>\n",
        "            <td width=\"164\">\n",
        "                <p>Life_Style_Index</p>\n",
        "            </td>\n",
        "            <td width=\"647\">\n",
        "                <p>Proprietary index created by Sigma Cabs showing lifestyle of the customer based on their behaviour</p>\n",
        "            </td>\n",
        "        </tr>\n",
        "        <tr>\n",
        "            <td width=\"164\">\n",
        "                <p>Confidence_Life_Style_Index</p>\n",
        "            </td>\n",
        "            <td width=\"647\">\n",
        "                <p>Category showing confidence on the index mentioned above</p>\n",
        "            </td>\n",
        "        </tr>\n",
        "        <tr>\n",
        "            <td width=\"164\">\n",
        "                <p>Destination_Type</p>\n",
        "            </td>\n",
        "            <td width=\"647\">\n",
        "                <p>Sigma Cabs divides any destination in one of the 14 categories.</p>\n",
        "            </td>\n",
        "        </tr>\n",
        "        <tr>\n",
        "            <td width=\"164\">\n",
        "                <p>Customer_Rating</p>\n",
        "            </td>\n",
        "            <td width=\"647\">\n",
        "                <p>Average of life time ratings of the customer till date</p>\n",
        "            </td>\n",
        "        </tr>\n",
        "        <tr>\n",
        "            <td width=\"164\">\n",
        "                <p>Cancellation_Last_1Month</p>\n",
        "            </td>\n",
        "            <td width=\"647\">\n",
        "                <p>Number of trips cancelled by the customer in last 1 month</p>\n",
        "            </td>\n",
        "        </tr>\n",
        "        <tr>\n",
        "            <td width=\"164\">\n",
        "                <p>Var1, Var2 and Var3</p>\n",
        "            </td>\n",
        "            <td width=\"647\">\n",
        "                <p>Continuous variables masked by the company. Can be used for modelling purposes</p>\n",
        "            </td>\n",
        "        </tr>\n",
        "        <tr>\n",
        "            <td width=\"164\">\n",
        "                <p>Gender</p>\n",
        "            </td>\n",
        "            <td width=\"647\">\n",
        "                <p>Gender of the customer</p>\n",
        "            </td>\n",
        "        </tr>\n",
        "        <tr>\n",
        "            <td width=\"164\">\n",
        "                <p>Surge_Pricing_Type</p>\n",
        "            </td>\n",
        "            <td width=\"647\">\n",
        "                <p>Predictor variable can be of 3 types</p>\n",
        "            </td>\n",
        "        </tr>\n",
        "    </tbody>\n",
        "\n",
        "    "
      ]
    },
    {
      "cell_type": "code",
      "metadata": {
        "id": "jLsfZmmFYmmF",
        "colab_type": "code",
        "colab": {}
      },
      "source": [
        "train_df = pd.read_csv(\"train_Wc8LBpr.csv\")\n",
        "test_df = pd.read_csv(\"test_VsU9xXK.csv\")\n",
        "sample_df = pd.read_csv(\"sample_submission_NoPBkjr.csv\")"
      ],
      "execution_count": 0,
      "outputs": []
    },
    {
      "cell_type": "code",
      "metadata": {
        "id": "3uykiDx7Ytun",
        "colab_type": "code",
        "outputId": "211af159-f0ff-44ac-ba25-c446b16c470d",
        "colab": {
          "base_uri": "https://localhost:8080/",
          "height": 215
        }
      },
      "source": [
        "test_df.head()"
      ],
      "execution_count": 11,
      "outputs": [
        {
          "output_type": "execute_result",
          "data": {
            "text/html": [
              "<div>\n",
              "<style scoped>\n",
              "    .dataframe tbody tr th:only-of-type {\n",
              "        vertical-align: middle;\n",
              "    }\n",
              "\n",
              "    .dataframe tbody tr th {\n",
              "        vertical-align: top;\n",
              "    }\n",
              "\n",
              "    .dataframe thead th {\n",
              "        text-align: right;\n",
              "    }\n",
              "</style>\n",
              "<table border=\"1\" class=\"dataframe\">\n",
              "  <thead>\n",
              "    <tr style=\"text-align: right;\">\n",
              "      <th></th>\n",
              "      <th>Trip_Distance</th>\n",
              "      <th>Type_of_Cab</th>\n",
              "      <th>Customer_Since_Months</th>\n",
              "      <th>Life_Style_Index</th>\n",
              "      <th>Confidence_Life_Style_Index</th>\n",
              "      <th>Destination_Type</th>\n",
              "      <th>Customer_Rating</th>\n",
              "      <th>Cancellation_Last_1Month</th>\n",
              "      <th>Var1</th>\n",
              "      <th>Var2</th>\n",
              "      <th>Var3</th>\n",
              "      <th>Gender</th>\n",
              "    </tr>\n",
              "  </thead>\n",
              "  <tbody>\n",
              "    <tr>\n",
              "      <th>0</th>\n",
              "      <td>9.44</td>\n",
              "      <td>A</td>\n",
              "      <td>10.0</td>\n",
              "      <td>2.57438</td>\n",
              "      <td>A</td>\n",
              "      <td>B</td>\n",
              "      <td>3.68000</td>\n",
              "      <td>2</td>\n",
              "      <td>NaN</td>\n",
              "      <td>46</td>\n",
              "      <td>63</td>\n",
              "      <td>Male</td>\n",
              "    </tr>\n",
              "    <tr>\n",
              "      <th>1</th>\n",
              "      <td>32.15</td>\n",
              "      <td>B</td>\n",
              "      <td>10.0</td>\n",
              "      <td>2.85143</td>\n",
              "      <td>A</td>\n",
              "      <td>A</td>\n",
              "      <td>1.59375</td>\n",
              "      <td>0</td>\n",
              "      <td>65.0</td>\n",
              "      <td>49</td>\n",
              "      <td>80</td>\n",
              "      <td>Female</td>\n",
              "    </tr>\n",
              "    <tr>\n",
              "      <th>2</th>\n",
              "      <td>10.38</td>\n",
              "      <td>C</td>\n",
              "      <td>4.0</td>\n",
              "      <td>2.70530</td>\n",
              "      <td>A</td>\n",
              "      <td>D</td>\n",
              "      <td>4.50500</td>\n",
              "      <td>0</td>\n",
              "      <td>NaN</td>\n",
              "      <td>47</td>\n",
              "      <td>74</td>\n",
              "      <td>Male</td>\n",
              "    </tr>\n",
              "    <tr>\n",
              "      <th>3</th>\n",
              "      <td>14.94</td>\n",
              "      <td>NaN</td>\n",
              "      <td>6.0</td>\n",
              "      <td>2.48159</td>\n",
              "      <td>C</td>\n",
              "      <td>E</td>\n",
              "      <td>4.53000</td>\n",
              "      <td>0</td>\n",
              "      <td>63.0</td>\n",
              "      <td>43</td>\n",
              "      <td>54</td>\n",
              "      <td>Male</td>\n",
              "    </tr>\n",
              "    <tr>\n",
              "      <th>4</th>\n",
              "      <td>32.03</td>\n",
              "      <td>B</td>\n",
              "      <td>7.0</td>\n",
              "      <td>2.81598</td>\n",
              "      <td>A</td>\n",
              "      <td>K</td>\n",
              "      <td>4.60125</td>\n",
              "      <td>3</td>\n",
              "      <td>96.0</td>\n",
              "      <td>44</td>\n",
              "      <td>56</td>\n",
              "      <td>Male</td>\n",
              "    </tr>\n",
              "  </tbody>\n",
              "</table>\n",
              "</div>"
            ],
            "text/plain": [
              "   Trip_Distance Type_of_Cab  Customer_Since_Months  ...  Var2 Var3  Gender\n",
              "0           9.44           A                   10.0  ...    46   63    Male\n",
              "1          32.15           B                   10.0  ...    49   80  Female\n",
              "2          10.38           C                    4.0  ...    47   74    Male\n",
              "3          14.94         NaN                    6.0  ...    43   54    Male\n",
              "4          32.03           B                    7.0  ...    44   56    Male\n",
              "\n",
              "[5 rows x 12 columns]"
            ]
          },
          "metadata": {
            "tags": []
          },
          "execution_count": 11
        }
      ]
    },
    {
      "cell_type": "code",
      "metadata": {
        "id": "uyme9h_8tV-S",
        "colab_type": "code",
        "colab": {
          "base_uri": "https://localhost:8080/",
          "height": 269
        },
        "outputId": "08437bfe-4094-4888-de4f-91ac9bfe89d6"
      },
      "source": [
        "train_df.isnull().sum()"
      ],
      "execution_count": 12,
      "outputs": [
        {
          "output_type": "execute_result",
          "data": {
            "text/plain": [
              "Trip_ID                            0\n",
              "Trip_Distance                      0\n",
              "Type_of_Cab                    20210\n",
              "Customer_Since_Months           5920\n",
              "Life_Style_Index               20193\n",
              "Confidence_Life_Style_Index    20193\n",
              "Destination_Type                   0\n",
              "Customer_Rating                    0\n",
              "Cancellation_Last_1Month           0\n",
              "Var1                           71030\n",
              "Var2                               0\n",
              "Var3                               0\n",
              "Gender                             0\n",
              "Surge_Pricing_Type                 0\n",
              "dtype: int64"
            ]
          },
          "metadata": {
            "tags": []
          },
          "execution_count": 12
        }
      ]
    },
    {
      "cell_type": "code",
      "metadata": {
        "id": "N62VFmIstdEY",
        "colab_type": "code",
        "colab": {
          "base_uri": "https://localhost:8080/",
          "height": 235
        },
        "outputId": "e324a26f-02a9-4280-c88d-18caf73a5603"
      },
      "source": [
        "test_df.isnull().sum()"
      ],
      "execution_count": 13,
      "outputs": [
        {
          "output_type": "execute_result",
          "data": {
            "text/plain": [
              "Trip_Distance                      0\n",
              "Type_of_Cab                    13158\n",
              "Customer_Since_Months           3966\n",
              "Life_Style_Index               13327\n",
              "Confidence_Life_Style_Index    13327\n",
              "Destination_Type                   0\n",
              "Customer_Rating                    0\n",
              "Cancellation_Last_1Month           0\n",
              "Var1                           46789\n",
              "Var2                               0\n",
              "Var3                               0\n",
              "Gender                             0\n",
              "dtype: int64"
            ]
          },
          "metadata": {
            "tags": []
          },
          "execution_count": 13
        }
      ]
    },
    {
      "cell_type": "markdown",
      "metadata": {
        "id": "vW2jWiLHuPCo",
        "colab_type": "text"
      },
      "source": [
        "### Since the data looks fine with considerable amount of null values let's try to build a baseling with lightgbm as they would handle those"
      ]
    },
    {
      "cell_type": "code",
      "metadata": {
        "id": "2Ei7p-HiYwYR",
        "colab_type": "code",
        "colab": {}
      },
      "source": [
        "from catboost import CatBoostClassifier,Pool, cv\n",
        "from lightgbm import LGBMClassifier\n",
        "from sklearn.model_selection import StratifiedKFold,train_test_split\n",
        "from sklearn.linear_model import LogisticRegression\n",
        "from sklearn.ensemble import RandomForestClassifier\n",
        "from sklearn.metrics import accuracy_score,confusion_matrix,roc_auc_score"
      ],
      "execution_count": 0,
      "outputs": []
    },
    {
      "cell_type": "code",
      "metadata": {
        "id": "pU2lSNVzY05_",
        "colab_type": "code",
        "colab": {}
      },
      "source": [
        "cat_feat = [\"Type_of_Cab\",\"Confidence_Life_Style_Index\",\"Destination_Type\",\"Gender\"]\n",
        "for i in cat_feat:\n",
        "    train_df[i] = train_df[i].astype('category')\n",
        "    test_df[i] = test_df[i].astype('category')"
      ],
      "execution_count": 0,
      "outputs": []
    },
    {
      "cell_type": "code",
      "metadata": {
        "id": "hzSOHi25ud3u",
        "colab_type": "code",
        "colab": {
          "base_uri": "https://localhost:8080/",
          "height": 215
        },
        "outputId": "7265de57-9009-493a-cbcc-17ae4a8f048f"
      },
      "source": [
        "test_df.head()"
      ],
      "execution_count": 39,
      "outputs": [
        {
          "output_type": "execute_result",
          "data": {
            "text/html": [
              "<div>\n",
              "<style scoped>\n",
              "    .dataframe tbody tr th:only-of-type {\n",
              "        vertical-align: middle;\n",
              "    }\n",
              "\n",
              "    .dataframe tbody tr th {\n",
              "        vertical-align: top;\n",
              "    }\n",
              "\n",
              "    .dataframe thead th {\n",
              "        text-align: right;\n",
              "    }\n",
              "</style>\n",
              "<table border=\"1\" class=\"dataframe\">\n",
              "  <thead>\n",
              "    <tr style=\"text-align: right;\">\n",
              "      <th></th>\n",
              "      <th>Trip_Distance</th>\n",
              "      <th>Type_of_Cab</th>\n",
              "      <th>Customer_Since_Months</th>\n",
              "      <th>Life_Style_Index</th>\n",
              "      <th>Confidence_Life_Style_Index</th>\n",
              "      <th>Destination_Type</th>\n",
              "      <th>Customer_Rating</th>\n",
              "      <th>Cancellation_Last_1Month</th>\n",
              "      <th>Var1</th>\n",
              "      <th>Var2</th>\n",
              "      <th>Var3</th>\n",
              "      <th>Gender</th>\n",
              "    </tr>\n",
              "  </thead>\n",
              "  <tbody>\n",
              "    <tr>\n",
              "      <th>0</th>\n",
              "      <td>9.44</td>\n",
              "      <td>A</td>\n",
              "      <td>10.0</td>\n",
              "      <td>2.57438</td>\n",
              "      <td>A</td>\n",
              "      <td>B</td>\n",
              "      <td>3.68000</td>\n",
              "      <td>2</td>\n",
              "      <td>NaN</td>\n",
              "      <td>46</td>\n",
              "      <td>63</td>\n",
              "      <td>Male</td>\n",
              "    </tr>\n",
              "    <tr>\n",
              "      <th>1</th>\n",
              "      <td>32.15</td>\n",
              "      <td>B</td>\n",
              "      <td>10.0</td>\n",
              "      <td>2.85143</td>\n",
              "      <td>A</td>\n",
              "      <td>A</td>\n",
              "      <td>1.59375</td>\n",
              "      <td>0</td>\n",
              "      <td>65.0</td>\n",
              "      <td>49</td>\n",
              "      <td>80</td>\n",
              "      <td>Female</td>\n",
              "    </tr>\n",
              "    <tr>\n",
              "      <th>2</th>\n",
              "      <td>10.38</td>\n",
              "      <td>C</td>\n",
              "      <td>4.0</td>\n",
              "      <td>2.70530</td>\n",
              "      <td>A</td>\n",
              "      <td>D</td>\n",
              "      <td>4.50500</td>\n",
              "      <td>0</td>\n",
              "      <td>NaN</td>\n",
              "      <td>47</td>\n",
              "      <td>74</td>\n",
              "      <td>Male</td>\n",
              "    </tr>\n",
              "    <tr>\n",
              "      <th>3</th>\n",
              "      <td>14.94</td>\n",
              "      <td>NaN</td>\n",
              "      <td>6.0</td>\n",
              "      <td>2.48159</td>\n",
              "      <td>C</td>\n",
              "      <td>E</td>\n",
              "      <td>4.53000</td>\n",
              "      <td>0</td>\n",
              "      <td>63.0</td>\n",
              "      <td>43</td>\n",
              "      <td>54</td>\n",
              "      <td>Male</td>\n",
              "    </tr>\n",
              "    <tr>\n",
              "      <th>4</th>\n",
              "      <td>32.03</td>\n",
              "      <td>B</td>\n",
              "      <td>7.0</td>\n",
              "      <td>2.81598</td>\n",
              "      <td>A</td>\n",
              "      <td>K</td>\n",
              "      <td>4.60125</td>\n",
              "      <td>3</td>\n",
              "      <td>96.0</td>\n",
              "      <td>44</td>\n",
              "      <td>56</td>\n",
              "      <td>Male</td>\n",
              "    </tr>\n",
              "  </tbody>\n",
              "</table>\n",
              "</div>"
            ],
            "text/plain": [
              "   Trip_Distance Type_of_Cab  Customer_Since_Months  ...  Var2 Var3  Gender\n",
              "0           9.44           A                   10.0  ...    46   63    Male\n",
              "1          32.15           B                   10.0  ...    49   80  Female\n",
              "2          10.38           C                    4.0  ...    47   74    Male\n",
              "3          14.94         NaN                    6.0  ...    43   54    Male\n",
              "4          32.03           B                    7.0  ...    44   56    Male\n",
              "\n",
              "[5 rows x 12 columns]"
            ]
          },
          "metadata": {
            "tags": []
          },
          "execution_count": 39
        }
      ]
    },
    {
      "cell_type": "code",
      "metadata": {
        "id": "PrZs-TXQZDDd",
        "colab_type": "code",
        "colab": {}
      },
      "source": [
        "#test_df = test_df.drop([\"Trip_ID\"],axis=1)\n",
        "X= train_df[test_df.columns]\n",
        "y = train_df[\"Surge_Pricing_Type\"]\n",
        "Xtest = test_df"
      ],
      "execution_count": 0,
      "outputs": []
    },
    {
      "cell_type": "code",
      "metadata": {
        "id": "qcZLUV4PZGdZ",
        "colab_type": "code",
        "outputId": "69bd2b1a-2898-4956-df66-7b7cc7f45b93",
        "colab": {
          "base_uri": "https://localhost:8080/",
          "height": 34
        }
      },
      "source": [
        "categorical_features_indices = np.where(X.dtypes =='category')[0]\n",
        "categorical_features_indices\n",
        "X.columns[categorical_features_indices].tolist()"
      ],
      "execution_count": 20,
      "outputs": [
        {
          "output_type": "execute_result",
          "data": {
            "text/plain": [
              "['Type_of_Cab', 'Confidence_Life_Style_Index', 'Destination_Type', 'Gender']"
            ]
          },
          "metadata": {
            "tags": []
          },
          "execution_count": 20
        }
      ]
    },
    {
      "cell_type": "code",
      "metadata": {
        "id": "ox4iOjVSZJdQ",
        "colab_type": "code",
        "colab": {}
      },
      "source": [
        "import time\n",
        "notebookstart= time.time()\n",
        "\n",
        "import numpy as np # linear algebra\n",
        "import pandas as pd # data processing, CSV file I/O (e.g. pd.read_csv)\n",
        "import os\n",
        "import gc\n",
        "import random\n",
        "random.seed(2018)\n",
        "import re\n",
        "\n",
        "# Models Packages\n",
        "from sklearn import metrics\n",
        "from sklearn.metrics import mean_squared_error\n",
        "from sklearn import feature_selection\n",
        "from sklearn.model_selection import train_test_split\n",
        "from IPython.display import display\n",
        "\n",
        "# Gradient Boosting\n",
        "import lightgbm as lgb\n"
      ],
      "execution_count": 0,
      "outputs": []
    },
    {
      "cell_type": "code",
      "metadata": {
        "id": "mlEuwazkcp6F",
        "colab_type": "code",
        "colab": {}
      },
      "source": [
        "#test_df = test_df.drop([\"Trip_ID\"],axis=1)\n",
        "X= train_df[test_df.columns]\n",
        "y = train_df[\"Surge_Pricing_Type\"]\n",
        "Xtest = test_df"
      ],
      "execution_count": 0,
      "outputs": []
    },
    {
      "cell_type": "code",
      "metadata": {
        "id": "APfjfB87ZNQS",
        "colab_type": "code",
        "colab": {}
      },
      "source": [
        "train_df=train_df.drop([\"Trip_ID\"],axis = 1)\n",
        "X = train_df[test_df.columns]"
      ],
      "execution_count": 0,
      "outputs": []
    },
    {
      "cell_type": "code",
      "metadata": {
        "id": "t9l3iJpAZP3O",
        "colab_type": "code",
        "outputId": "0ec4097a-e65c-4d73-86fc-5e9369720f71",
        "colab": {
          "base_uri": "https://localhost:8080/",
          "height": 67
        }
      },
      "source": [
        "lgtrain = lgb.Dataset(X,y, categorical_feature= \"auto\")\n",
        "print(\"Starting LightGBM.\\nTrain shape: {}\\nTest shape: {}\".format(X.shape,test_df.shape))"
      ],
      "execution_count": 26,
      "outputs": [
        {
          "output_type": "stream",
          "text": [
            "Starting LightGBM.\n",
            "Train shape: (131662, 12)\n",
            "Test shape: (87395, 12)\n"
          ],
          "name": "stdout"
        }
      ]
    },
    {
      "cell_type": "markdown",
      "metadata": {
        "id": "C29KIwvC7LeQ",
        "colab_type": "text"
      },
      "source": [
        "# Baseline Model"
      ]
    },
    {
      "cell_type": "code",
      "metadata": {
        "id": "PXK_KblWZTKn",
        "colab_type": "code",
        "outputId": "d6a7348f-c782-4e9d-a61b-6e2aa637e98d",
        "colab": {
          "base_uri": "https://localhost:8080/",
          "height": 34
        }
      },
      "source": [
        "print(\"Light Gradient Boosting Classifier: \")\n",
        "lgbm_params =  {\n",
        "    'task': 'train',\n",
        "    'boosting_type': 'gbdt',\n",
        "    'objective': 'multiclass',\n",
        "    'num_class':4,\n",
        "    'metric': ['multi_error'],\n",
        "    \"learning_rate\": 0.05,\n",
        "     \"num_leaves\": 60,\n",
        "     \"max_depth\": 9,\n",
        "     \"feature_fraction\": 0.45,\n",
        "     \"bagging_fraction\": 0.3,\n",
        "     \"reg_alpha\": 0.15,\n",
        "     \"reg_lambda\": 0.15,\n",
        "#     \"min_split_gain\": 0,\n",
        "      \"min_child_weight\": 0\n",
        "                }"
      ],
      "execution_count": 40,
      "outputs": [
        {
          "output_type": "stream",
          "text": [
            "Light Gradient Boosting Classifier: \n"
          ],
          "name": "stdout"
        }
      ]
    },
    {
      "cell_type": "code",
      "metadata": {
        "id": "LiCTylDdZVIP",
        "colab_type": "code",
        "outputId": "dd28051d-447c-4c56-99ab-173c545f8a02",
        "colab": {
          "base_uri": "https://localhost:8080/",
          "height": 218
        }
      },
      "source": [
        "Debug = False\n",
        "Home = False\n",
        "Build_Results_csv = False # if running for first time at Home\n",
        "\n",
        "results = pd.DataFrame(columns = [\"Rounds\",\"Score\",\"STDV\", \"LB\", \"Parameters\"])\n",
        "\n",
        "modelstart= time.time()\n",
        "# Find Optimal Parameters / Boosting Rounds\n",
        "lgb_cv = lgb.cv(\n",
        "    params = lgbm_params,\n",
        "    train_set = lgtrain,\n",
        "    num_boost_round=2000,\n",
        "    stratified=True,\n",
        "    nfold = 5,\n",
        "    verbose_eval=50,\n",
        "    seed = 23,\n",
        "    early_stopping_rounds=75)\n",
        "\n",
        "loss = lgbm_params[\"metric\"][0]\n",
        "optimal_rounds = np.argmin(lgb_cv[str(loss) + '-mean'])\n",
        "best_cv_score = min(lgb_cv[str(loss) + '-mean'])\n",
        "\n",
        "print(\"\\nOptimal Round: {}\\nOptimal Score: {} + {}\".format(\n",
        "    optimal_rounds,best_cv_score,lgb_cv[str(loss) + '-stdv'][optimal_rounds]))\n",
        "\n",
        "results = results.append({\"Rounds\": optimal_rounds,\n",
        "                          \"Score\": best_cv_score,\n",
        "                          \"STDV\": lgb_cv[str(loss) + '-stdv'][optimal_rounds],\n",
        "                          \"LB\": None,\n",
        "                          \"Parameters\": lgbm_params}, ignore_index=True)\n"
      ],
      "execution_count": 41,
      "outputs": [
        {
          "output_type": "stream",
          "text": [
            "[50]\tcv_agg's multi_error: 0.301378 + 0.00239995\n",
            "[100]\tcv_agg's multi_error: 0.298157 + 0.00204104\n",
            "[150]\tcv_agg's multi_error: 0.296335 + 0.0020415\n",
            "[200]\tcv_agg's multi_error: 0.295355 + 0.00214308\n",
            "[250]\tcv_agg's multi_error: 0.294937 + 0.002474\n",
            "[300]\tcv_agg's multi_error: 0.294656 + 0.00225819\n",
            "[350]\tcv_agg's multi_error: 0.294565 + 0.00244424\n",
            "[400]\tcv_agg's multi_error: 0.29417 + 0.00236976\n",
            "[450]\tcv_agg's multi_error: 0.294626 + 0.00220356\n",
            "\n",
            "Optimal Round: 401\n",
            "Optimal Score: 0.2941395227263129 + 0.0023557276473622248\n"
          ],
          "name": "stdout"
        }
      ]
    },
    {
      "cell_type": "markdown",
      "metadata": {
        "id": "_-6GSqCu8BQw",
        "colab_type": "text"
      },
      "source": [
        "# Improving the baseline with Parameter tuning"
      ]
    },
    {
      "cell_type": "code",
      "metadata": {
        "id": "i-uU4YV1ZYeX",
        "colab_type": "code",
        "outputId": "07726168-3fed-4b57-ad32-30d1c6536b26",
        "colab": {
          "base_uri": "https://localhost:8080/",
          "height": 437
        }
      },
      "source": [
        "tune_parameter = [0.08,0.03]\n",
        "tune = 'learning_rate'\n",
        "for param in tune_parameter:\n",
        "    print(\"{} Parameter: {}\".format(tune, param))\n",
        "    modelstart= time.time()\n",
        "    lgbm_params[tune] = param\n",
        "    # Find Optimal Parameters / Boosting Rounds\n",
        "    lgb_cv = lgb.cv(\n",
        "        params = lgbm_params,\n",
        "        train_set = lgtrain,\n",
        "        num_boost_round=10000,\n",
        "        stratified=True,\n",
        "        nfold = 5,\n",
        "        verbose_eval=50,\n",
        "        seed = 23,\n",
        "        early_stopping_rounds=75)\n",
        "\n",
        "    optimal_rounds = np.argmin(lgb_cv[str(loss) + '-mean'])\n",
        "    best_cv_score = min(lgb_cv[str(loss) + '-mean'])\n",
        "\n",
        "    print(\"Optimal Round: {}\\nOptimal Score: {} + {}\".format(\n",
        "        optimal_rounds,best_cv_score,lgb_cv[str(loss) + '-stdv'][optimal_rounds]))\n",
        "    print(\"###########################################################################################\")\n",
        "\n",
        "    results = results.append({\"Rounds\": optimal_rounds,\n",
        "                              \"Score\": best_cv_score,\n",
        "                              \"STDV\": lgb_cv[str(loss) + '-stdv'][optimal_rounds],\n",
        "                              \"LB\": None,\n"
      ],
      "execution_count": 29,
      "outputs": [
        {
          "output_type": "stream",
          "text": [
            "learning_rate Parameter: 0.08\n",
            "[50]\tcv_agg's multi_error: 0.299327 + 0.00192199\n",
            "[100]\tcv_agg's multi_error: 0.29654 + 0.00199088\n",
            "[150]\tcv_agg's multi_error: 0.29515 + 0.00216493\n",
            "[200]\tcv_agg's multi_error: 0.295172 + 0.00247266\n",
            "Optimal Round: 167\n",
            "Optimal Score: 0.29482309644989674 + 0.002286047461402602\n",
            "###########################################################################################\n",
            "learning_rate Parameter: 0.03\n",
            "[50]\tcv_agg's multi_error: 0.309315 + 0.00214635\n",
            "[100]\tcv_agg's multi_error: 0.299828 + 0.00226872\n",
            "[150]\tcv_agg's multi_error: 0.298294 + 0.00154492\n",
            "[200]\tcv_agg's multi_error: 0.297246 + 0.00171254\n",
            "[250]\tcv_agg's multi_error: 0.296297 + 0.00145098\n",
            "[300]\tcv_agg's multi_error: 0.295704 + 0.00163139\n",
            "[350]\tcv_agg's multi_error: 0.295043 + 0.00194584\n",
            "[400]\tcv_agg's multi_error: 0.29474 + 0.00179842\n",
            "[450]\tcv_agg's multi_error: 0.294474 + 0.00208583\n",
            "[500]\tcv_agg's multi_error: 0.294367 + 0.00204289\n",
            "[550]\tcv_agg's multi_error: 0.29414 + 0.00201994\n",
            "[600]\tcv_agg's multi_error: 0.29401 + 0.00221282\n",
            "[650]\tcv_agg's multi_error: 0.29414 + 0.00222069\n",
            "Optimal Round: 604\n",
            "Optimal Score: 0.2939040790154775 + 0.002072608345539187\n",
            "###########################################################################################\n"
          ],
          "name": "stdout"
        }
      ]
    },
    {
      "cell_type": "code",
      "metadata": {
        "id": "qNTSes7vefZN",
        "colab_type": "code",
        "outputId": "46ebbf14-65a5-4d16-f9b9-3428ec1b2b57",
        "colab": {
          "base_uri": "https://localhost:8080/",
          "height": 104
        }
      },
      "source": [
        "# Best Parameters\n",
        "final_model_params = results.iloc[results[\"Score\"].idxmin(),:][\"Parameters\"]\n",
        "optimal_rounds = results.iloc[results[\"Score\"].idxmin(),:][\"Rounds\"]\n",
        "print(\"Parameters for Final Models:\\n\",final_model_params)\n",
        "print(\"Score: {} +/- {}\".format(results.iloc[results[\"Score\"].idxmin(),:][\"Score\"],results.iloc[results[\"Score\"].idxmin(),:][\"STDV\"]))\n",
        "print(\"Rounds: \", optimal_rounds)"
      ],
      "execution_count": 32,
      "outputs": [
        {
          "output_type": "stream",
          "text": [
            "Parameters for Final Models:\n",
            " {'task': 'train', 'boosting_type': 'gbdt', 'objective': 'multiclass', 'num_class': 4, 'metric': ['multi_error'], 'learning_rate': 0.03, 'num_leaves': 60, 'max_depth': 9, 'feature_fraction': 0.45, 'bagging_fraction': 0.3, 'reg_alpha': 0.15, 'reg_lambda': 0.15, 'min_child_weight': 0}\n",
            "Score: 0.2939040790154775 +/- 0.002072608345539187\n",
            "Rounds:  604\n"
          ],
          "name": "stdout"
        }
      ]
    },
    {
      "cell_type": "markdown",
      "metadata": {
        "id": "zTqAsod486aP",
        "colab_type": "text"
      },
      "source": [
        "# Further improvization using Seeds"
      ]
    },
    {
      "cell_type": "code",
      "metadata": {
        "id": "PqM9dtCQZdPc",
        "colab_type": "code",
        "colab": {}
      },
      "source": [
        "# Visualization\n",
        "import seaborn as sns\n",
        "import matplotlib.pyplot as plt\n",
        "import matplotlib as mpl\n",
        "%matplotlib inline"
      ],
      "execution_count": 0,
      "outputs": []
    },
    {
      "cell_type": "code",
      "metadata": {
        "id": "BumUbMizfFl3",
        "colab_type": "code",
        "colab": {}
      },
      "source": [
        "target_var = \"Surge_Pricing_Type\""
      ],
      "execution_count": 0,
      "outputs": []
    },
    {
      "cell_type": "code",
      "metadata": {
        "id": "y54scxTzdd4S",
        "colab_type": "code",
        "outputId": "785f0f72-122d-409c-cf21-b7e215840844",
        "colab": {
          "base_uri": "https://localhost:8080/",
          "height": 947
        }
      },
      "source": [
        "allmodelstart= time.time()\n",
        "# Run Model with different Seeds\n",
        "multi_seed_pred = dict()\n",
        "all_feature_importance_df  = pd.DataFrame()\n",
        "\n",
        "# To submit each seed model seperately aswell\n",
        "def seed_submit(model,seed):\n",
        "    # Output position with highest probability\n",
        "    class_prediction = (pd.DataFrame(model.predict(test_df)).idxmax(axis=1) + 1).rename(target_var)\n",
        "    class_prediction.index = test_df.index\n",
        "\n",
        "    # Submit\n",
        "    class_prediction.to_csv('mean_seed{}_sub_ep{}_sc{}.csv'.format(seed,optimal_rounds,round(best_cv_score,5))\n",
        "                ,index = True, header=True)\n",
        "\n",
        "all_seeds = [27,22,300,401]\n",
        "for seeds_x in all_seeds:\n",
        "    modelstart= time.time()\n",
        "    print(\"Seed: \", seeds_x,)\n",
        "    # Go Go Go\n",
        "    final_model_params[\"seed\"] = seeds_x\n",
        "    lgb_final = lgb.train(\n",
        "        final_model_params,\n",
        "        lgtrain,\n",
        "        num_boost_round = optimal_rounds + 1,\n",
        "        verbose_eval=200)\n",
        "\n",
        "    # Feature Importance\n",
        "    fold_importance_df = pd.DataFrame()\n",
        "    fold_importance_df[\"feature\"] = X.columns\n",
        "    fold_importance_df[\"importance\"] = lgb_final.feature_importance()\n",
        "    all_feature_importance_df = pd.concat([all_feature_importance_df, fold_importance_df], axis=0)\n",
        "\n",
        "    multi_seed_pred[seeds_x] =  pd.DataFrame(lgb_final.predict(test_df))\n",
        "    # Submit Model Individually\n",
        "    seed_submit(model= lgb_final, seed= seeds_x)\n",
        "    print(\"Model Runtime: %0.2f Minutes\"%((time.time() - modelstart)/60))\n",
        "    print(\"###########################################################################################\")\n",
        "    del lgb_final\n",
        "\n",
        "cols = all_feature_importance_df[[\"feature\", \"importance\"]].groupby(\"feature\").mean().sort_values(\n",
        "    by=\"importance\", ascending=False)[:50].index\n",
        "best_features = all_feature_importance_df.loc[all_feature_importance_df.feature.isin(cols)]\n",
        "plt.figure(figsize=(8,10))\n",
        "sns.barplot(x=\"importance\", y=\"feature\", \n",
        "            data=best_features.sort_values(by=\"importance\", ascending=False))\n",
        "plt.title('LightGBM Features (avg over folds)')\n",
        "plt.tight_layout()\n",
        "plt.savefig('lgb_finalm_importances.png')\n",
        "print(\"All Model Runtime: %0.2f Minutes\"%((time.time() - allmodelstart)/60))"
      ],
      "execution_count": 42,
      "outputs": [
        {
          "output_type": "stream",
          "text": [
            "Seed:  27\n",
            "Model Runtime: 0.72 Minutes\n",
            "###########################################################################################\n",
            "Seed:  22\n",
            "Model Runtime: 0.73 Minutes\n",
            "###########################################################################################\n",
            "Seed:  300\n",
            "Model Runtime: 0.71 Minutes\n",
            "###########################################################################################\n",
            "Seed:  401\n",
            "Model Runtime: 0.72 Minutes\n",
            "###########################################################################################\n",
            "All Model Runtime: 2.88 Minutes\n"
          ],
          "name": "stdout"
        },
        {
          "output_type": "display_data",
          "data": {
            "image/png": "[encoded data removed]",
            "text/plain": [
              "<Figure size 576x720 with 1 Axes>"
            ]
          },
          "metadata": {
            "tags": [],
            "needs_background": "light"
          }
        }
      ]
    },
    {
      "cell_type": "markdown",
      "metadata": {
        "id": "LLA7RwFN9CQw",
        "colab_type": "text"
      },
      "source": [
        "## Getting the average resulsts based on seeds"
      ]
    },
    {
      "cell_type": "code",
      "metadata": {
        "id": "T26nIqgFdtYC",
        "colab_type": "code",
        "outputId": "facb3fd7-a1c4-4a63-cf52-c0f1ca9e97e4",
        "colab": {
          "base_uri": "https://localhost:8080/",
          "height": 353
        }
      },
      "source": [
        "# Collapse Seed DataFrames\n",
        "panel = pd.Panel(multi_seed_pred)\n",
        "print(\"Seed Effect Breakdown: Classwise Statistics\")\n",
        "for i,(std,mean) in enumerate(zip(panel.std(axis=0).mean(axis=0),panel.mean(axis=0).mean(axis=0))):\n",
        "    print(\"Class {}:\".format(i+1))\n",
        "    print(\"Mean {0:.3f} (+/-) {1:.5f}\\n\".format(mean,std))"
      ],
      "execution_count": 43,
      "outputs": [
        {
          "output_type": "stream",
          "text": [
            "Seed Effect Breakdown: Classwise Statistics\n",
            "Class 1:\n",
            "Mean 0.000 (+/-) 0.00000\n",
            "\n",
            "Class 2:\n",
            "Mean 0.206 (+/-) 0.00458\n",
            "\n",
            "Class 3:\n",
            "Mean 0.429 (+/-) 0.00701\n",
            "\n",
            "Class 4:\n",
            "Mean 0.366 (+/-) 0.00660\n",
            "\n"
          ],
          "name": "stdout"
        },
        {
          "output_type": "stream",
          "text": [
            "/usr/local/lib/python3.6/dist-packages/IPython/core/interactiveshell.py:2882: FutureWarning: \n",
            "Panel is deprecated and will be removed in a future version.\n",
            "The recommended way to represent these types of 3-dimensional data are with a MultiIndex on a DataFrame, via the Panel.to_frame() method\n",
            "Alternatively, you can use the xarray package http://xarray.pydata.org/en/stable/.\n",
            "Pandas provides a `.to_xarray()` method to help automate this conversion.\n",
            "\n",
            "  exec(code_obj, self.user_global_ns, self.user_ns)\n"
          ],
          "name": "stderr"
        }
      ]
    },
    {
      "cell_type": "code",
      "metadata": {
        "id": "YLmsnUoDet1E",
        "colab_type": "code",
        "outputId": "cd6838e6-e362-4428-e1fc-2a4e978712ad",
        "colab": {
          "base_uri": "https://localhost:8080/",
          "height": 195
        }
      },
      "source": [
        "# Take Mean over Seed prediction\n",
        "mean_prob = panel.mean(axis=0)\n",
        "class_prediction = pd.DataFrame()\n",
        "class_prediction[\"Trip_Id\"] = sample_df[\"Trip_ID\"]\n",
        "# Output position with highest probability\n",
        "class_prediction[\"Surge_Pricing_Type\"] = mean_prob.idxmax(axis=1) \n",
        "#class_prediction.rename(target_var,inplace=True)\n",
        "\n",
        "\n",
        "# Submit\n",
        "class_prediction.to_csv('mean_sub_ep{}_sc{}.csv'.format(optimal_rounds,round(best_cv_score,5))\n",
        "            ,index = True, header=True)\n",
        "# Save Results..\n",
        "results.to_csv(\"model_tuning_results.csv\")\n",
        "class_prediction.head()"
      ],
      "execution_count": 44,
      "outputs": [
        {
          "output_type": "execute_result",
          "data": {
            "text/html": [
              "<div>\n",
              "<style scoped>\n",
              "    .dataframe tbody tr th:only-of-type {\n",
              "        vertical-align: middle;\n",
              "    }\n",
              "\n",
              "    .dataframe tbody tr th {\n",
              "        vertical-align: top;\n",
              "    }\n",
              "\n",
              "    .dataframe thead th {\n",
              "        text-align: right;\n",
              "    }\n",
              "</style>\n",
              "<table border=\"1\" class=\"dataframe\">\n",
              "  <thead>\n",
              "    <tr style=\"text-align: right;\">\n",
              "      <th></th>\n",
              "      <th>Trip_Id</th>\n",
              "      <th>Surge_Pricing_Type</th>\n",
              "    </tr>\n",
              "  </thead>\n",
              "  <tbody>\n",
              "    <tr>\n",
              "      <th>0</th>\n",
              "      <td>T0005689459</td>\n",
              "      <td>1</td>\n",
              "    </tr>\n",
              "    <tr>\n",
              "      <th>1</th>\n",
              "      <td>T0005689462</td>\n",
              "      <td>2</td>\n",
              "    </tr>\n",
              "    <tr>\n",
              "      <th>2</th>\n",
              "      <td>T0005689463</td>\n",
              "      <td>2</td>\n",
              "    </tr>\n",
              "    <tr>\n",
              "      <th>3</th>\n",
              "      <td>T0005689466</td>\n",
              "      <td>2</td>\n",
              "    </tr>\n",
              "    <tr>\n",
              "      <th>4</th>\n",
              "      <td>T0005689468</td>\n",
              "      <td>2</td>\n",
              "    </tr>\n",
              "  </tbody>\n",
              "</table>\n",
              "</div>"
            ],
            "text/plain": [
              "       Trip_Id  Surge_Pricing_Type\n",
              "0  T0005689459                   1\n",
              "1  T0005689462                   2\n",
              "2  T0005689463                   2\n",
              "3  T0005689466                   2\n",
              "4  T0005689468                   2"
            ]
          },
          "metadata": {
            "tags": []
          },
          "execution_count": 44
        }
      ]
    },
    {
      "cell_type": "code",
      "metadata": {
        "id": "Y7ZxJ054gM7X",
        "colab_type": "code",
        "colab": {}
      },
      "source": [
        "sample_df[\"Surge_Pricing_Type\"] = mean_prob.idxmax(axis=1) "
      ],
      "execution_count": 0,
      "outputs": []
    },
    {
      "cell_type": "code",
      "metadata": {
        "id": "ZQiCsPNtgTPf",
        "colab_type": "code",
        "colab": {}
      },
      "source": [
        "sample_df.to_csv(\"sample.csv\",index=False)"
      ],
      "execution_count": 0,
      "outputs": []
    },
    {
      "cell_type": "markdown",
      "metadata": {
        "id": "qMP3fMCr-LdR",
        "colab_type": "text"
      },
      "source": [
        "## Submitting seed results"
      ]
    },
    {
      "cell_type": "code",
      "metadata": {
        "id": "6EKW-maigr06",
        "colab_type": "code",
        "colab": {}
      },
      "source": [
        "#m1 = pd.read_csv(\"/content/mean_seed27_sub_ep604_sc0.2939.csv\")\n",
        "#m2 = pd.read_csv(\"/content/mean_seed22_sub_ep604_sc0.2939.csv\")\n",
        "#m3 = pd.read_csv(\"/content/mean_seed300_sub_ep604_sc0.2939.csv\")\n",
        "#m4 = pd.read_csv(\"/content/mean_seed401_sub_ep604_sc0.2939.csv\")\n",
        "#m5 = pd.read_csv(\"/content/mean_sub_ep604_sc0.2939.csv\")"
      ],
      "execution_count": 0,
      "outputs": []
    },
    {
      "cell_type": "code",
      "metadata": {
        "id": "Q_VLSV67kFyE",
        "colab_type": "code",
        "colab": {}
      },
      "source": [
        "#m1[\"Surge_Pricing_Type\"]=m1[\"Surge_Pricing_Type\"]-1\n",
        "#m1[\"Unnamed: 0\"] = sample_df[\"Trip_ID\"]\n",
        "#m2[\"Surge_Pricing_Type\"]=m2[\"Surge_Pricing_Type\"]-1\n",
        "#m2[\"Unnamed: 0\"] = sample_df[\"Trip_ID\"]\n",
        "#m3[\"Surge_Pricing_Type\"]=m3[\"Surge_Pricing_Type\"]-1\n",
        "#m3[\"Unnamed: 0\"] = sample_df[\"Trip_ID\"]\n",
        "#m4[\"Surge_Pricing_Type\"]=m4[\"Surge_Pricing_Type\"]-1\n",
        "#m4[\"Unnamed: 0\"] = sample_df[\"Trip_ID\"]\n",
        "#m5[\"Surge_Pricing_Type\"]=m5[\"Surge_Pricing_Type\"]\n",
        "#m1=m1.drop([\"Unnamed: 0\"],axis=1)\n",
        "#m2=m2.drop([\"Unnamed: 0\"],axis=1)\n",
        "#m3=m3.drop([\"Unnamed: 0\"],axis=1)\n",
        "#m4=m4.drop([\"Unnamed: 0\"],axis=1)\n",
        "#m5=m5.drop([\"Unnamed: 0\"],axis=1)\n",
        "                                            "
      ],
      "execution_count": 0,
      "outputs": []
    },
    {
      "cell_type": "code",
      "metadata": {
        "id": "nr-Ad4E9vh9G",
        "colab_type": "code",
        "colab": {}
      },
      "source": [
        "#m1.columns = [\"Trip_ID\", \"Surge_Pricing_Type\"]\n",
        "#m2.columns = [\"Trip_ID\", \"Surge_Pricing_Type\"]\n",
        "#m3.columns = [\"Trip_ID\", \"Surge_Pricing_Type\"]\n",
        "#m4.columns = [\"Trip_ID\", \"Surge_Pricing_Type\"]\n",
        "#m5.columns = [\"Trip_ID\", \"Surge_Pricing_Type\"]"
      ],
      "execution_count": 0,
      "outputs": []
    },
    {
      "cell_type": "code",
      "metadata": {
        "id": "4MEVDuyit1Iv",
        "colab_type": "code",
        "colab": {}
      },
      "source": [
        "#m1.to_csv(\"mean_seed27.csv\",index=False)\n",
        "#m2.to_csv(\"mean_seed22.csv\",index=False)\n",
        "#m3.to_csv(\"mean_seed300.csv\",index=False)\n",
        "#m4.to_csv(\"mean_seed401.csv\",index=False)\n",
        "#m5.to_csv(\"mean_seed604.csv\",index=False)"
      ],
      "execution_count": 0,
      "outputs": []
    }
  ]
}